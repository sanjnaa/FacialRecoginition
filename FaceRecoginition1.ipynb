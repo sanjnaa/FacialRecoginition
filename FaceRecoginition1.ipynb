{
 "cells": [
  {
   "cell_type": "code",
   "execution_count": 5,
   "metadata": {
    "colab": {
     "base_uri": "https://localhost:8080/",
     "height": 371
    },
    "colab_type": "code",
    "executionInfo": {
     "elapsed": 928,
     "status": "error",
     "timestamp": 1565364542733,
     "user": {
      "displayName": "Sanjna Randhawa",
      "photoUrl": "https://lh5.googleusercontent.com/-PQFH9DF_mMk/AAAAAAAAAAI/AAAAAAAAAP0/r9h5_LhRins/s64/photo.jpg",
      "userId": "17185835827840823645"
     },
     "user_tz": -330
    },
    "id": "eY6o9tum-hJd",
    "outputId": "5f82dfd0-a970-4f18-9452-02c046f272c3"
   },
   "outputs": [
    {
     "name": "stdout",
     "output_type": "stream",
     "text": [
      "Collecting Samples Complete!!!!\n"
     ]
    }
   ],
   "source": [
    "import cv2\n",
    "import numpy as np\n",
    "face_classifier=cv2.CascadeClassifier('C:/Users/HP/Anaconda3/Lib/site-packages/cv2/data/haarcascade_frontalface_default.xml')\n",
    "\n",
    "def face_extractor(img):\n",
    "    gray=cv2.cvtColor(img,cv2.COLOR_BGR2GRAY)\n",
    "    faces=face_classifier.detectMultiScale(gray,1.3,5)\n",
    "    if faces is():\n",
    "        return None\n",
    "    for(x,y,w,h)in faces:\n",
    "        cropped_face=img[y:y+h,x:x+w]\n",
    "    return cropped_face\n",
    "cap=cv2.VideoCapture(0)\n",
    "count=0\n",
    "while True:\n",
    "\tret,frame=cap.read()\n",
    "\tif face_extractor(frame) is not None:\n",
    "\t\tcount+=1\n",
    "\t\tface=cv2.resize(face_extractor(frame),(200,200))\n",
    "\t\tface=cv2.cvtColor(face,cv2.COLOR_BGR2GRAY)\n",
    "\t\tfile_name_path='D:/Machine Learning/Facial/Face/'+str(count)+'.jpg'\n",
    "\t\tcv2.imwrite(file_name_path,face)\n",
    "\t\tcv2.putText(face,str(count),(50,50),cv2.FONT_HERSHEY_COMPLEX,1,(0,255,0),2)\n",
    "\t\tcv2.imshow('face Cropper',face)\n",
    "\telse:\n",
    "\t   print(\"Face not found\")\n",
    "\t   pass\n",
    "\n",
    "\tif cv2.waitKey(1)==13 or count==100:\n",
    "\t break\n",
    "\n",
    "cap.release()\n",
    "cv2.destroyAllWindows()\n",
    "print(\"Collecting Samples Complete!!!!\")"
   ]
  },
  {
   "cell_type": "code",
   "execution_count": null,
   "metadata": {
    "colab": {},
    "colab_type": "code",
    "id": "ZyhvImss-7HL"
   },
   "outputs": [],
   "source": []
  },
  {
   "cell_type": "code",
   "execution_count": null,
   "metadata": {},
   "outputs": [],
   "source": []
  }
 ],
 "metadata": {
  "colab": {
   "name": "FaceRecoginition1.ipynb",
   "provenance": [],
   "version": "0.3.2"
  },
  "kernelspec": {
   "display_name": "Python 3",
   "language": "python",
   "name": "python3"
  },
  "language_info": {
   "codemirror_mode": {
    "name": "ipython",
    "version": 3
   },
   "file_extension": ".py",
   "mimetype": "text/x-python",
   "name": "python",
   "nbconvert_exporter": "python",
   "pygments_lexer": "ipython3",
   "version": "3.7.4"
  }
 },
 "nbformat": 4,
 "nbformat_minor": 1
}
